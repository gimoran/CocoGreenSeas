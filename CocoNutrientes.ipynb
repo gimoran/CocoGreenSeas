{
 "cells": [
  {
   "cell_type": "code",
   "execution_count": 10,
   "id": "52b60fd3",
   "metadata": {},
   "outputs": [],
   "source": [
    "import numpy as np\n",
    "import matplotlib as plt\n",
    "import pandas as pd\n",
    "import seaborn as sn\n",
    "import plotly.graph_objects as go\n",
    "import plotly.express as px"
   ]
  },
  {
   "cell_type": "code",
   "execution_count": 2,
   "id": "f984af37",
   "metadata": {},
   "outputs": [],
   "source": [
    "import netCDF4 as nc"
   ]
  },
  {
   "cell_type": "code",
   "execution_count": 3,
   "id": "7c26edef",
   "metadata": {},
   "outputs": [],
   "source": [
    "from netCDF4 import Dataset as NetCDFFile"
   ]
  },
  {
   "cell_type": "code",
   "execution_count": 4,
   "id": "175f0039",
   "metadata": {},
   "outputs": [],
   "source": [
    "path= \"D:/Documentos/Academicas/code to communicate/Curso/GeoHackeo/data golfo Mexico/cmems_mod_glo_bgc_my_0.25_P1M-m_1651069812390.nc\""
   ]
  },
  {
   "cell_type": "code",
   "execution_count": 5,
   "id": "97f27ff2",
   "metadata": {},
   "outputs": [],
   "source": [
    "dataset= nc.Dataset(path)"
   ]
  },
  {
   "cell_type": "code",
   "execution_count": 8,
   "id": "5ceb66f0",
   "metadata": {
    "scrolled": true
   },
   "outputs": [
    {
     "name": "stdout",
     "output_type": "stream",
     "text": [
      "<class 'netCDF4._netCDF4.Dataset'>\n",
      "root group (NETCDF3_CLASSIC data model, file format NETCDF3):\n",
      "    product: GLOBAL_REANALYSIS_BIO_001_029\n",
      "    producer: CMEMS - Global Monitoring and Forecasting Centre\n",
      "    title: Monthly mean fields for product GLOBAL_REANALYSIS_BIO_001_029\n",
      "    area: GLOBAL\n",
      "    quality_information_document: http://marine.copernicus.eu/documents/QUID/CMEMS-GLO-QUID-001-029.pdf\n",
      "    Conventions: CF-1.6\n",
      "    credit: E.U. Copernicus Marine Service Information (CMEMS)\n",
      "    contact: servicedesk.cmems@mercator-ocean.eu\n",
      "    references: http://marine.copernicus.eu\n",
      "    source: MERCATOR FREEBIORYS2V4\n",
      "    licence: http://marine.copernicus.eu/services-portfolio/service-commitments-and-licence/\n",
      "    dataset: global-reanalysis-bio-001-029-monthly\n",
      "    institution: Mercator Ocean\n",
      "    product_user_manual: http://marine.copernicus.eu/documents/PUM/CMEMS-GLO-PUM-001-029.pdf\n",
      "    _CoordSysBuilder: ucar.nc2.dataset.conv.CF1Convention\n",
      "    comment: \n",
      "    history: Data extracted from dataset http://localhost:8080/thredds/dodsC/cmems_mod_glo_bgc_my_0.25_P1M-m\n",
      "    dimensions(sizes): time(192), latitude(41), longitude(61), depth(1)\n",
      "    variables(dimensions): float32 spco2(time, latitude, longitude), float32 o2(time, depth, latitude, longitude), float32 chl(time, depth, latitude, longitude), float32 latitude(latitude), float32 no3(time, depth, latitude, longitude), float32 depth(depth), float32 po4(time, depth, latitude, longitude), float32 phyc(time, depth, latitude, longitude), float32 si(time, depth, latitude, longitude), float32 ph(time, depth, latitude, longitude), float64 time(time), float32 nppv(time, depth, latitude, longitude), float32 longitude(longitude), float32 fe(time, depth, latitude, longitude)\n",
      "    groups: \n"
     ]
    }
   ],
   "source": [
    "print(dataset)"
   ]
  },
  {
   "cell_type": "code",
   "execution_count": 9,
   "id": "7a73a2df",
   "metadata": {},
   "outputs": [
    {
     "name": "stdout",
     "output_type": "stream",
     "text": [
      "<class 'netCDF4._netCDF4.Dimension'>: name = 'time', size = 192\n",
      "<class 'netCDF4._netCDF4.Dimension'>: name = 'latitude', size = 41\n",
      "<class 'netCDF4._netCDF4.Dimension'>: name = 'longitude', size = 61\n",
      "<class 'netCDF4._netCDF4.Dimension'>: name = 'depth', size = 1\n"
     ]
    }
   ],
   "source": [
    "for dim in dataset.dimensions.values():\n",
    "    print(dim)"
   ]
  },
  {
   "cell_type": "code",
   "execution_count": 11,
   "id": "089ef419",
   "metadata": {},
   "outputs": [
    {
     "name": "stdout",
     "output_type": "stream",
     "text": [
      "<class 'netCDF4._netCDF4.Variable'>\n",
      "float32 chl(time, depth, latitude, longitude)\n",
      "    long_name: Total Chlorophyll\n",
      "    standard_name: mass_concentration_of_chlorophyll_a_in_sea_water\n",
      "    units: mg m-3\n",
      "    unit_long: milligram of Chlorophyll per cubic meter\n",
      "    _FillValue: 9.96921e+36\n",
      "    _ChunkSizes: [  1  15 137 288]\n",
      "unlimited dimensions: \n",
      "current shape = (192, 1, 41, 61)\n",
      "filling on\n"
     ]
    }
   ],
   "source": [
    "print(dataset['chl'])"
   ]
  },
  {
   "cell_type": "code",
   "execution_count": null,
   "id": "88f2f73d",
   "metadata": {},
   "outputs": [],
   "source": []
  }
 ],
 "metadata": {
  "kernelspec": {
   "display_name": "Python 3 (ipykernel)",
   "language": "python",
   "name": "python3"
  },
  "language_info": {
   "codemirror_mode": {
    "name": "ipython",
    "version": 3
   },
   "file_extension": ".py",
   "mimetype": "text/x-python",
   "name": "python",
   "nbconvert_exporter": "python",
   "pygments_lexer": "ipython3",
   "version": "3.10.4"
  }
 },
 "nbformat": 4,
 "nbformat_minor": 5
}
