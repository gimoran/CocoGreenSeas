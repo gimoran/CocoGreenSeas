{
 "cells": [
  {
   "cell_type": "code",
   "execution_count": 1,
   "id": "52b60fd3",
   "metadata": {},
   "outputs": [],
   "source": [
    "import numpy as np\n",
    "import matplotlib as plt\n",
    "import pandas as pd\n"
   ]
  },
  {
   "cell_type": "code",
   "execution_count": 2,
   "id": "f984af37",
   "metadata": {},
   "outputs": [],
   "source": [
    "import netCDF4 as nc"
   ]
  },
  {
   "cell_type": "code",
   "execution_count": 3,
   "id": "7c26edef",
   "metadata": {},
   "outputs": [],
   "source": [
    "from netCDF4 import Dataset as NetCDFFile"
   ]
  },
  {
   "cell_type": "markdown",
   "id": "1acf3347",
   "metadata": {},
   "source": [
    "prueba\n"
   ]
  },
  {
   "cell_type": "markdown",
   "id": "e2046a69",
   "metadata": {},
   "source": [
    "prueba2"
   ]
  },
  {
   "cell_type": "code",
   "execution_count": null,
   "id": "175f0039",
   "metadata": {},
   "outputs": [],
   "source": []
  }
 ],
 "metadata": {
  "kernelspec": {
   "display_name": "Python 3 (ipykernel)",
   "language": "python",
   "name": "python3"
  },
  "language_info": {
   "codemirror_mode": {
    "name": "ipython",
    "version": 3
   },
   "file_extension": ".py",
   "mimetype": "text/x-python",
   "name": "python",
   "nbconvert_exporter": "python",
   "pygments_lexer": "ipython3",
   "version": "3.10.4"
  }
 },
 "nbformat": 4,
 "nbformat_minor": 5
}
